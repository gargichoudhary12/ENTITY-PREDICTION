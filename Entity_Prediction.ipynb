{
  "nbformat": 4,
  "nbformat_minor": 0,
  "metadata": {
    "colab": {
      "provenance": []
    },
    "kernelspec": {
      "name": "python3",
      "display_name": "Python 3"
    },
    "language_info": {
      "name": "python"
    }
  },
  "cells": [
    {
      "cell_type": "code",
      "execution_count": 55,
      "metadata": {
        "id": "hhgHd63-RaKH"
      },
      "outputs": [],
      "source": [
        "import numpy as np\n",
        "from sklearn.feature_extraction.text import CountVectorizer, TfidfVectorizer\n",
        "from sklearn.model_selection import train_test_split\n",
        "from sklearn.naive_bayes import MultinomialNB\n",
        "from sklearn.svm import SVC\n",
        "from sklearn.metrics import classification_report\n",
        "import torch\n",
        "import torch.nn as nn\n",
        "import torch.optim as optim\n",
        "from sklearn.metrics import classification_report"
      ]
    },
    {
      "cell_type": "code",
      "source": [
        "# Example labeled data\n",
        "sentences = [\"Apple is a tech company.\", \"I live in New York.\", \"The cat chased the mouse.\"]\n",
        "entity_labels = [\"Company\", \"Location\", \"Animal\"]"
      ],
      "metadata": {
        "id": "SC2r2Nz9Rcbv"
      },
      "execution_count": 56,
      "outputs": []
    },
    {
      "cell_type": "code",
      "source": [
        "# Split data into training and testing sets\n",
        "X_train, X_test, y_train, y_test = train_test_split(sentences, entity_labels, test_size=0.2, random_state=42)"
      ],
      "metadata": {
        "id": "yVEo-sS1Rlvj"
      },
      "execution_count": 57,
      "outputs": []
    },
    {
      "cell_type": "code",
      "source": [
        "# Naive Bayes\n",
        "vectorizer = CountVectorizer()  # or TfidfVectorizer()\n",
        "X_train_nb = vectorizer.fit_transform(X_train)\n",
        "X_test_nb = vectorizer.transform(X_test)\n",
        "\n",
        "nb_classifier = MultinomialNB()\n",
        "nb_classifier.fit(X_train_nb, y_train)\n",
        "y_pred_nb = nb_classifier.predict(X_test_nb)"
      ],
      "metadata": {
        "id": "Js9qWUVPRoUM"
      },
      "execution_count": 58,
      "outputs": []
    },
    {
      "cell_type": "code",
      "source": [
        "print(\"Naive Bayes Classification Report:\")\n",
        "print(classification_report(y_test, y_pred_nb))"
      ],
      "metadata": {
        "colab": {
          "base_uri": "https://localhost:8080/"
        },
        "id": "Hm0estcURrDT",
        "outputId": "965132e3-ad91-43d1-afdb-a9f29a32bbd4"
      },
      "execution_count": 59,
      "outputs": [
        {
          "output_type": "stream",
          "name": "stdout",
          "text": [
            "Naive Bayes Classification Report:\n",
            "              precision    recall  f1-score   support\n",
            "\n",
            "      Animal       0.00      0.00      0.00       0.0\n",
            "     Company       0.00      0.00      0.00       1.0\n",
            "\n",
            "    accuracy                           0.00       1.0\n",
            "   macro avg       0.00      0.00      0.00       1.0\n",
            "weighted avg       0.00      0.00      0.00       1.0\n",
            "\n"
          ]
        },
        {
          "output_type": "stream",
          "name": "stderr",
          "text": [
            "/usr/local/lib/python3.10/dist-packages/sklearn/metrics/_classification.py:1344: UndefinedMetricWarning: Precision and F-score are ill-defined and being set to 0.0 in labels with no predicted samples. Use `zero_division` parameter to control this behavior.\n",
            "  _warn_prf(average, modifier, msg_start, len(result))\n",
            "/usr/local/lib/python3.10/dist-packages/sklearn/metrics/_classification.py:1344: UndefinedMetricWarning: Recall and F-score are ill-defined and being set to 0.0 in labels with no true samples. Use `zero_division` parameter to control this behavior.\n",
            "  _warn_prf(average, modifier, msg_start, len(result))\n",
            "/usr/local/lib/python3.10/dist-packages/sklearn/metrics/_classification.py:1344: UndefinedMetricWarning: Precision and F-score are ill-defined and being set to 0.0 in labels with no predicted samples. Use `zero_division` parameter to control this behavior.\n",
            "  _warn_prf(average, modifier, msg_start, len(result))\n",
            "/usr/local/lib/python3.10/dist-packages/sklearn/metrics/_classification.py:1344: UndefinedMetricWarning: Recall and F-score are ill-defined and being set to 0.0 in labels with no true samples. Use `zero_division` parameter to control this behavior.\n",
            "  _warn_prf(average, modifier, msg_start, len(result))\n",
            "/usr/local/lib/python3.10/dist-packages/sklearn/metrics/_classification.py:1344: UndefinedMetricWarning: Precision and F-score are ill-defined and being set to 0.0 in labels with no predicted samples. Use `zero_division` parameter to control this behavior.\n",
            "  _warn_prf(average, modifier, msg_start, len(result))\n",
            "/usr/local/lib/python3.10/dist-packages/sklearn/metrics/_classification.py:1344: UndefinedMetricWarning: Recall and F-score are ill-defined and being set to 0.0 in labels with no true samples. Use `zero_division` parameter to control this behavior.\n",
            "  _warn_prf(average, modifier, msg_start, len(result))\n"
          ]
        }
      ]
    },
    {
      "cell_type": "code",
      "source": [
        "# Support Vector Machines\n",
        "vectorizer = TfidfVectorizer()\n",
        "X_train_svm = vectorizer.fit_transform(X_train)\n",
        "X_test_svm = vectorizer.transform(X_test)\n",
        "\n",
        "svm_classifier = SVC()\n",
        "svm_classifier.fit(X_train_svm, y_train)\n",
        "y_pred_svm = svm_classifier.predict(X_test_svm)"
      ],
      "metadata": {
        "id": "Lf3OszTDRt4_"
      },
      "execution_count": 60,
      "outputs": []
    },
    {
      "cell_type": "code",
      "source": [
        "\n",
        "print(\"SVM Classification Report:\")\n",
        "print(classification_report(y_test, y_pred_svm))"
      ],
      "metadata": {
        "colab": {
          "base_uri": "https://localhost:8080/"
        },
        "id": "La0AxyjhRx5a",
        "outputId": "32d61024-5052-4e5b-bedc-a249321c7b3b"
      },
      "execution_count": 61,
      "outputs": [
        {
          "output_type": "stream",
          "name": "stdout",
          "text": [
            "SVM Classification Report:\n",
            "              precision    recall  f1-score   support\n",
            "\n",
            "      Animal       0.00      0.00      0.00       0.0\n",
            "     Company       0.00      0.00      0.00       1.0\n",
            "\n",
            "    accuracy                           0.00       1.0\n",
            "   macro avg       0.00      0.00      0.00       1.0\n",
            "weighted avg       0.00      0.00      0.00       1.0\n",
            "\n"
          ]
        },
        {
          "output_type": "stream",
          "name": "stderr",
          "text": [
            "/usr/local/lib/python3.10/dist-packages/sklearn/metrics/_classification.py:1344: UndefinedMetricWarning: Precision and F-score are ill-defined and being set to 0.0 in labels with no predicted samples. Use `zero_division` parameter to control this behavior.\n",
            "  _warn_prf(average, modifier, msg_start, len(result))\n",
            "/usr/local/lib/python3.10/dist-packages/sklearn/metrics/_classification.py:1344: UndefinedMetricWarning: Recall and F-score are ill-defined and being set to 0.0 in labels with no true samples. Use `zero_division` parameter to control this behavior.\n",
            "  _warn_prf(average, modifier, msg_start, len(result))\n",
            "/usr/local/lib/python3.10/dist-packages/sklearn/metrics/_classification.py:1344: UndefinedMetricWarning: Precision and F-score are ill-defined and being set to 0.0 in labels with no predicted samples. Use `zero_division` parameter to control this behavior.\n",
            "  _warn_prf(average, modifier, msg_start, len(result))\n",
            "/usr/local/lib/python3.10/dist-packages/sklearn/metrics/_classification.py:1344: UndefinedMetricWarning: Recall and F-score are ill-defined and being set to 0.0 in labels with no true samples. Use `zero_division` parameter to control this behavior.\n",
            "  _warn_prf(average, modifier, msg_start, len(result))\n",
            "/usr/local/lib/python3.10/dist-packages/sklearn/metrics/_classification.py:1344: UndefinedMetricWarning: Precision and F-score are ill-defined and being set to 0.0 in labels with no predicted samples. Use `zero_division` parameter to control this behavior.\n",
            "  _warn_prf(average, modifier, msg_start, len(result))\n",
            "/usr/local/lib/python3.10/dist-packages/sklearn/metrics/_classification.py:1344: UndefinedMetricWarning: Recall and F-score are ill-defined and being set to 0.0 in labels with no true samples. Use `zero_division` parameter to control this behavior.\n",
            "  _warn_prf(average, modifier, msg_start, len(result))\n"
          ]
        }
      ]
    },
    {
      "cell_type": "code",
      "source": [
        "class RNNClassifier(nn.Module):\n",
        "    def __init__(self, input_size, hidden_size, num_classes):\n",
        "        super(RNNClassifier, self).__init__()\n",
        "        self.hidden_size = hidden_size\n",
        "        self.embedding = nn.Embedding(input_size, hidden_size)\n",
        "        self.rnn = nn.RNN(hidden_size, hidden_size, batch_first=True)\n",
        "        self.fc = nn.Linear(hidden_size, num_classes)\n",
        "\n",
        "    def forward(self, x):\n",
        "        embedded = self.embedding(x)\n",
        "        h0 = torch.zeros(1, x.size(0), self.hidden_size)\n",
        "        out, _ = self.rnn(embedded, h0)\n",
        "        out = self.fc(out[:, -1, :])\n",
        "        return out\n"
      ],
      "metadata": {
        "id": "7C8biELiRztS"
      },
      "execution_count": 62,
      "outputs": []
    },
    {
      "cell_type": "code",
      "source": [
        "# Convert words to integer IDs\n",
        "word_to_id = {word: idx for idx, word in enumerate(set(' '.join(sentences).split()))}\n",
        "X_train_rnn = torch.tensor([[word_to_id[word] for word in sentence.split()] for sentence in X_train])\n",
        "X_test_rnn = torch.tensor([[word_to_id[word] for word in sentence.split()] for sentence in X_test])"
      ],
      "metadata": {
        "id": "PBLdk63pR2fi"
      },
      "execution_count": 63,
      "outputs": []
    },
    {
      "cell_type": "code",
      "source": [
        "y_train_rnn = torch.tensor([entity_labels.index(label) for label in y_train])\n",
        "y_test_rnn = torch.tensor([entity_labels.index(label) for label in y_test])"
      ],
      "metadata": {
        "id": "Dg_OlQdER6Gq"
      },
      "execution_count": 64,
      "outputs": []
    },
    {
      "cell_type": "code",
      "source": [
        "input_size = len(word_to_id)\n",
        "hidden_size = 16\n",
        "num_classes = len(entity_labels)\n",
        "\n",
        "rnn_classifier = RNNClassifier(input_size, hidden_size, num_classes)\n",
        "criterion = nn.CrossEntropyLoss()\n",
        "optimizer = optim.Adam(rnn_classifier.parameters(), lr=0.001)"
      ],
      "metadata": {
        "id": "nLie0FmTR9NC"
      },
      "execution_count": 65,
      "outputs": []
    },
    {
      "cell_type": "code",
      "source": [
        "num_epochs = 30\n",
        "for epoch in range(num_epochs):\n",
        "    rnn_classifier.train()\n",
        "    optimizer.zero_grad()\n",
        "    outputs = rnn_classifier(X_train_rnn)\n",
        "    loss = criterion(outputs, y_train_rnn)\n",
        "    loss.backward()\n",
        "    optimizer.step()\n",
        "\n",
        "with torch.no_grad():\n",
        "    rnn_classifier.eval()\n",
        "    outputs = rnn_classifier(X_test_rnn)\n",
        "    _, y_pred_rnn = torch.max(outputs, 1)"
      ],
      "metadata": {
        "id": "DWvQJuxWSAfx"
      },
      "execution_count": 66,
      "outputs": []
    },
    {
      "cell_type": "code",
      "source": [
        "from sklearn.metrics import classification_report, confusion_matrix\n",
        "# Convert integer predictions back to entity labels\n",
        "y_pred_rnn_labels = [entity_labels[idx] for idx in y_pred_rnn]\n",
        "\n",
        "# Create a sorted list of unique entity labels\n",
        "sorted_entity_labels = sorted(entity_labels)\n",
        "\n",
        "# Print RNN Classification Report\n",
        "print(\"RNN Classification Report:\")\n",
        "print(classification_report(y_test, y_pred_rnn_labels, labels=sorted_entity_labels))\n"
      ],
      "metadata": {
        "colab": {
          "base_uri": "https://localhost:8080/"
        },
        "id": "p1678DejSDJ1",
        "outputId": "457bbf23-b2b8-4daa-a4cc-464106d5d76d"
      },
      "execution_count": 67,
      "outputs": [
        {
          "output_type": "stream",
          "name": "stdout",
          "text": [
            "RNN Classification Report:\n",
            "              precision    recall  f1-score   support\n",
            "\n",
            "      Animal       0.00      0.00      0.00         0\n",
            "     Company       1.00      1.00      1.00         1\n",
            "    Location       0.00      0.00      0.00         0\n",
            "\n",
            "   micro avg       1.00      1.00      1.00         1\n",
            "   macro avg       0.33      0.33      0.33         1\n",
            "weighted avg       1.00      1.00      1.00         1\n",
            "\n"
          ]
        },
        {
          "output_type": "stream",
          "name": "stderr",
          "text": [
            "/usr/local/lib/python3.10/dist-packages/sklearn/metrics/_classification.py:1344: UndefinedMetricWarning: Precision and F-score are ill-defined and being set to 0.0 in labels with no predicted samples. Use `zero_division` parameter to control this behavior.\n",
            "  _warn_prf(average, modifier, msg_start, len(result))\n",
            "/usr/local/lib/python3.10/dist-packages/sklearn/metrics/_classification.py:1344: UndefinedMetricWarning: Recall and F-score are ill-defined and being set to 0.0 in labels with no true samples. Use `zero_division` parameter to control this behavior.\n",
            "  _warn_prf(average, modifier, msg_start, len(result))\n",
            "/usr/local/lib/python3.10/dist-packages/sklearn/metrics/_classification.py:1344: UndefinedMetricWarning: Precision and F-score are ill-defined and being set to 0.0 in labels with no predicted samples. Use `zero_division` parameter to control this behavior.\n",
            "  _warn_prf(average, modifier, msg_start, len(result))\n",
            "/usr/local/lib/python3.10/dist-packages/sklearn/metrics/_classification.py:1344: UndefinedMetricWarning: Recall and F-score are ill-defined and being set to 0.0 in labels with no true samples. Use `zero_division` parameter to control this behavior.\n",
            "  _warn_prf(average, modifier, msg_start, len(result))\n",
            "/usr/local/lib/python3.10/dist-packages/sklearn/metrics/_classification.py:1344: UndefinedMetricWarning: Precision and F-score are ill-defined and being set to 0.0 in labels with no predicted samples. Use `zero_division` parameter to control this behavior.\n",
            "  _warn_prf(average, modifier, msg_start, len(result))\n",
            "/usr/local/lib/python3.10/dist-packages/sklearn/metrics/_classification.py:1344: UndefinedMetricWarning: Recall and F-score are ill-defined and being set to 0.0 in labels with no true samples. Use `zero_division` parameter to control this behavior.\n",
            "  _warn_prf(average, modifier, msg_start, len(result))\n"
          ]
        }
      ]
    },
    {
      "cell_type": "code",
      "source": [
        "sentences = [\"Apple is a tech company.\", \"I live in New York.\", \"The cat chased the mouse.\"]\n",
        "entity_labels = [\"Company\", \"Location\", \"Animal\"]\n",
        "\n",
        "# Convert words to integer IDs\n",
        "word_to_id = {word: idx for idx, word in enumerate(set(' '.join(sentences).split()))}\n",
        "X_test_rnn = torch.tensor([[word_to_id[word] for word in sentence.split()] for sentence in sentences])\n",
        "\n",
        "# Load the trained RNN model\n",
        "rnn_classifier = RNNClassifier(input_size=len(word_to_id), hidden_size=16, num_classes=len(entity_labels))\n",
        "rnn_classifier.eval()\n",
        "\n",
        "# Testing the model\n",
        "with torch.no_grad():\n",
        "    outputs = rnn_classifier(X_test_rnn)\n",
        "    _, y_pred_rnn = torch.max(outputs, 1)\n",
        "\n",
        "# Convert integer predictions back to entity labels\n",
        "y_pred_rnn_labels = [entity_labels[idx] for idx in y_pred_rnn]\n",
        "\n",
        "# Print predicted entity labels\n",
        "for sentence, label in zip(sentences, y_pred_rnn_labels):\n",
        "    print(f\"Sentence: {sentence}\")\n",
        "    print(f\"Predicted Entity Label: {label}\")\n",
        "    print()"
      ],
      "metadata": {
        "colab": {
          "base_uri": "https://localhost:8080/"
        },
        "id": "OJuYHaouST8W",
        "outputId": "6ec677ff-aad5-4d86-a6a1-d64c6f6d73b1"
      },
      "execution_count": 68,
      "outputs": [
        {
          "output_type": "stream",
          "name": "stdout",
          "text": [
            "Sentence: Apple is a tech company.\n",
            "Predicted Entity Label: Animal\n",
            "\n",
            "Sentence: I live in New York.\n",
            "Predicted Entity Label: Animal\n",
            "\n",
            "Sentence: The cat chased the mouse.\n",
            "Predicted Entity Label: Animal\n",
            "\n"
          ]
        }
      ]
    },
    {
      "cell_type": "code",
      "source": [
        "# Convert words to integer IDs\n",
        "word_to_id = {word: idx for idx, word in enumerate(set(' '.join(sentences).split()))}\n",
        "X_test_rnn = torch.tensor([[word_to_id[word] for word in sentence.split()] for sentence in sentences])\n",
        "y_true = [entity_labels.index(label) for label in entity_labels]\n",
        "\n",
        "# Load the trained RNN model\n",
        "rnn_classifier = RNNClassifier(input_size=len(word_to_id), hidden_size=16, num_classes=len(entity_labels))\n",
        "rnn_classifier.eval()\n",
        "\n",
        "# Testing the model and calculating accuracy\n",
        "correct_predictions = 0\n",
        "total_examples = len(sentences)\n",
        "\n",
        "with torch.no_grad():\n",
        "    outputs = rnn_classifier(X_test_rnn)\n",
        "    _, y_pred_rnn = torch.max(outputs, 1)\n",
        "\n",
        "    for pred_label, true_label in zip(y_pred_rnn, y_true):\n",
        "        if pred_label.item() == true_label:\n",
        "            correct_predictions += 1\n",
        "\n",
        "accuracy = correct_predictions / total_examples\n",
        "print(f\"Accuracy: {accuracy:}\")"
      ],
      "metadata": {
        "colab": {
          "base_uri": "https://localhost:8080/"
        },
        "id": "XIzOoxbAS7ui",
        "outputId": "f79a5ea1-9dd6-4695-a9f1-bc567a31f119"
      },
      "execution_count": 73,
      "outputs": [
        {
          "output_type": "stream",
          "name": "stdout",
          "text": [
            "Accuracy: 0.3333333333333333\n"
          ]
        }
      ]
    }
  ]
}